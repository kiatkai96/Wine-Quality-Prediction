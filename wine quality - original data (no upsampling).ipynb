{
 "cells": [
  {
   "cell_type": "code",
   "execution_count": 25,
   "metadata": {},
   "outputs": [],
   "source": [
    "import pandas as pd\n",
    "import matplotlib.pyplot as plt\n",
    "from sklearn.utils import resample\n",
    "import numpy as np\n",
    "\n",
    "from sklearn.model_selection import train_test_split\n",
    "from sklearn.naive_bayes import GaussianNB\n",
    "from sklearn.ensemble import RandomForestClassifier\n",
    "from sklearn.discriminant_analysis import LinearDiscriminantAnalysis\n",
    "from sklearn.discriminant_analysis import QuadraticDiscriminantAnalysis\n",
    "from sklearn.svm import SVC\n",
    "from sklearn.linear_model import LogisticRegression\n",
    "from sklearn.tree import DecisionTreeClassifier\n",
    "\n",
    "from sklearn.preprocessing import StandardScaler\n",
    "from sklearn.metrics import f1_score\n",
    "from sklearn.model_selection import GridSearchCV\n",
    "from sklearn.metrics import classification_report, confusion_matrix, classification_report, accuracy_score"
   ]
  },
  {
   "cell_type": "code",
   "execution_count": 3,
   "metadata": {},
   "outputs": [
    {
     "data": {
      "text/plain": [
       "(1599, 12)"
      ]
     },
     "execution_count": 3,
     "metadata": {},
     "output_type": "execute_result"
    }
   ],
   "source": [
    "full_df = pd.read_csv(\"C:/Users/Kiat Kai/Desktop/NOTES/Y4S2/ST4248/winequality-red.csv\")\n",
    "full_df.shape"
   ]
  },
  {
   "cell_type": "markdown",
   "metadata": {},
   "source": [
    "## Train Test Split"
   ]
  },
  {
   "cell_type": "code",
   "execution_count": 7,
   "metadata": {},
   "outputs": [],
   "source": [
    "# Split into X and Y\n",
    "Y = full_df.iloc[:,-1]\n",
    "X = full_df.drop(full_df.columns[-1], axis=1)\n",
    "\n",
    "# Now, train test split\n",
    "X_train, Xtest, Y_train, Ytest = train_test_split(X, Y, train_size=0.8, random_state=100)"
   ]
  },
  {
   "cell_type": "markdown",
   "metadata": {},
   "source": [
    "## 1) LDA"
   ]
  },
  {
   "cell_type": "code",
   "execution_count": 32,
   "metadata": {},
   "outputs": [
    {
     "name": "stdout",
     "output_type": "stream",
     "text": [
      "F1 Score for Linear Discriminant Analysis Classifier is 0.6\n",
      "Accuracy Score for Linear Discriminant Analysis Classifier is 0.6\n",
      "              precision    recall  f1-score   support\n",
      "\n",
      "           3       0.00      0.00      0.00         3\n",
      "           4       1.00      0.08      0.15        12\n",
      "           5       0.68      0.70      0.69       133\n",
      "           6       0.58      0.61      0.59       137\n",
      "           7       0.37      0.47      0.41        32\n",
      "           8       0.00      0.00      0.00         3\n",
      "\n",
      "    accuracy                           0.60       320\n",
      "   macro avg       0.44      0.31      0.31       320\n",
      "weighted avg       0.61      0.60      0.59       320\n",
      "\n"
     ]
    },
    {
     "name": "stderr",
     "output_type": "stream",
     "text": [
      "C:\\Users\\Kiat Kai\\Documents\\anaconda3\\lib\\site-packages\\sklearn\\metrics\\_classification.py:1221: UndefinedMetricWarning: Precision and F-score are ill-defined and being set to 0.0 in labels with no predicted samples. Use `zero_division` parameter to control this behavior.\n",
      "  _warn_prf(average, modifier, msg_start, len(result))\n"
     ]
    }
   ],
   "source": [
    "lda = LinearDiscriminantAnalysis()\n",
    "y_pred = lda.fit(X_train, Y_train).predict(Xtest)\n",
    "f1_lda = f1_score(Ytest, y_pred, average='macro')\n",
    "acc_lda = accuracy_score(y_pred, Ytest)\n",
    "print(\"F1 Score for Linear Discriminant Analysis Classifier is\", f1_lda)\n",
    "print(\"Accuracy Score for Linear Discriminant Analysis Classifier is\", acc_lda)\n",
    "print(classification_report(Ytest,y_pred))"
   ]
  },
  {
   "cell_type": "markdown",
   "metadata": {},
   "source": [
    "## 2) QDA"
   ]
  },
  {
   "cell_type": "code",
   "execution_count": 31,
   "metadata": {
    "scrolled": true
   },
   "outputs": [
    {
     "name": "stdout",
     "output_type": "stream",
     "text": [
      "F1 Score for Quadratic Discriminant Analysis Classifier is 0.553125\n",
      "Accuracy Score for Quadratic Discriminant Analysis Classifier is 0.553125\n",
      "              precision    recall  f1-score   support\n",
      "\n",
      "           3       0.00      0.00      0.00         3\n",
      "           4       0.20      0.08      0.12        12\n",
      "           5       0.64      0.66      0.65       133\n",
      "           6       0.56      0.50      0.53       137\n",
      "           7       0.40      0.62      0.49        32\n",
      "           8       0.00      0.00      0.00         3\n",
      "\n",
      "    accuracy                           0.55       320\n",
      "   macro avg       0.30      0.31      0.30       320\n",
      "weighted avg       0.55      0.55      0.55       320\n",
      "\n"
     ]
    },
    {
     "name": "stderr",
     "output_type": "stream",
     "text": [
      "C:\\Users\\Kiat Kai\\Documents\\anaconda3\\lib\\site-packages\\sklearn\\discriminant_analysis.py:715: UserWarning: Variables are collinear\n",
      "  warnings.warn(\"Variables are collinear\")\n",
      "C:\\Users\\Kiat Kai\\Documents\\anaconda3\\lib\\site-packages\\sklearn\\metrics\\_classification.py:1221: UndefinedMetricWarning: Precision and F-score are ill-defined and being set to 0.0 in labels with no predicted samples. Use `zero_division` parameter to control this behavior.\n",
      "  _warn_prf(average, modifier, msg_start, len(result))\n"
     ]
    }
   ],
   "source": [
    "qda = QuadraticDiscriminantAnalysis()\n",
    "y_pred = qda.fit(X_train, Y_train).predict(Xtest)\n",
    "f1_qda = f1_score(Ytest, y_pred, average='macro')\n",
    "acc_qda = accuracy_score(y_pred, Ytest)\n",
    "print(\"F1 Score for Quadratic Discriminant Analysis Classifier is\", f1_qda)\n",
    "print(\"Accuracy Score for Quadratic Discriminant Analysis Classifier is\", acc_qda)\n",
    "print(classification_report(Ytest,y_pred))"
   ]
  },
  {
   "cell_type": "markdown",
   "metadata": {},
   "source": [
    "## 3) Naive Bayes"
   ]
  },
  {
   "cell_type": "code",
   "execution_count": 30,
   "metadata": {},
   "outputs": [
    {
     "name": "stdout",
     "output_type": "stream",
     "text": [
      "F1 Score for Naive Bayes Classifier is 0.53125\n",
      "Accuracy Score for Naive Bayes Classifier is 0.53125\n",
      "              precision    recall  f1-score   support\n",
      "\n",
      "           3       0.00      0.00      0.00         3\n",
      "           4       0.25      0.08      0.12        12\n",
      "           5       0.66      0.69      0.67       133\n",
      "           6       0.56      0.43      0.49       137\n",
      "           7       0.28      0.56      0.37        32\n",
      "           8       0.00      0.00      0.00         3\n",
      "\n",
      "    accuracy                           0.53       320\n",
      "   macro avg       0.29      0.29      0.28       320\n",
      "weighted avg       0.55      0.53      0.53       320\n",
      "\n"
     ]
    }
   ],
   "source": [
    "gnb = GaussianNB()\n",
    "y_pred = gnb.fit(X_train, Y_train).predict(Xtest)\n",
    "f1_nb = f1_score(Ytest, y_pred, average='macro')\n",
    "acc_nb = accuracy_score(y_pred, Ytest)\n",
    "print(\"F1 Score for Naive Bayes Classifier is\", f1_nb)\n",
    "print(\"Accuracy Score for Naive Bayes Classifier is\", acc_nb)\n",
    "print(classification_report(Ytest,y_pred))"
   ]
  },
  {
   "cell_type": "markdown",
   "metadata": {},
   "source": [
    "## 4) Random Forest"
   ]
  },
  {
   "cell_type": "code",
   "execution_count": 44,
   "metadata": {},
   "outputs": [
    {
     "name": "stderr",
     "output_type": "stream",
     "text": [
      "C:\\Users\\Kiat Kai\\Documents\\anaconda3\\lib\\site-packages\\sklearn\\model_selection\\_split.py:672: UserWarning: The least populated class in y has only 7 members, which is less than n_splits=10.\n",
      "  % (min_groups, self.n_splits)), UserWarning)\n"
     ]
    },
    {
     "data": {
      "text/plain": [
       "GridSearchCV(cv=10, estimator=RandomForestClassifier(random_state=100),\n",
       "             param_grid={'criterion': ['gini', 'entropy'],\n",
       "                         'max_depth': [4, 6, 8, 10, 12, 14],\n",
       "                         'max_features': [3, 4],\n",
       "                         'n_estimators': [200, 300, 400, 500]})"
      ]
     },
     "execution_count": 44,
     "metadata": {},
     "output_type": "execute_result"
    }
   ],
   "source": [
    "rfc=RandomForestClassifier(random_state=100)\n",
    "\n",
    "param_grid = { \n",
    "    'n_estimators': [200, 300, 400, 500],\n",
    "    'max_features': [3,4],\n",
    "    'max_depth' : [4,6,8,10,12,14],\n",
    "    'criterion' :['gini', 'entropy']\n",
    "}\n",
    "\n",
    "CV_rfc = GridSearchCV(estimator=rfc, param_grid=param_grid, cv= 10)\n",
    "CV_rfc.fit(X_train, Y_train)"
   ]
  },
  {
   "cell_type": "code",
   "execution_count": 45,
   "metadata": {},
   "outputs": [
    {
     "data": {
      "text/plain": [
       "{'criterion': 'gini', 'max_depth': 12, 'max_features': 4, 'n_estimators': 400}"
      ]
     },
     "execution_count": 45,
     "metadata": {},
     "output_type": "execute_result"
    }
   ],
   "source": [
    "CV_rfc.best_params_"
   ]
  },
  {
   "cell_type": "code",
   "execution_count": 46,
   "metadata": {},
   "outputs": [
    {
     "name": "stdout",
     "output_type": "stream",
     "text": [
      "F1 Score for Random Forest Classifier is 0.35445901049082656\n",
      "Accuracy Score for Random Forest Classifier is 0.721875\n",
      "              precision    recall  f1-score   support\n",
      "\n",
      "           3       0.00      0.00      0.00         3\n",
      "           4       0.00      0.00      0.00        12\n",
      "           5       0.79      0.81      0.80       133\n",
      "           6       0.71      0.74      0.72       137\n",
      "           7       0.54      0.69      0.60        32\n",
      "           8       0.00      0.00      0.00         3\n",
      "\n",
      "    accuracy                           0.72       320\n",
      "   macro avg       0.34      0.37      0.35       320\n",
      "weighted avg       0.69      0.72      0.70       320\n",
      "\n"
     ]
    },
    {
     "name": "stderr",
     "output_type": "stream",
     "text": [
      "C:\\Users\\Kiat Kai\\Documents\\anaconda3\\lib\\site-packages\\sklearn\\metrics\\_classification.py:1221: UndefinedMetricWarning: Precision and F-score are ill-defined and being set to 0.0 in labels with no predicted samples. Use `zero_division` parameter to control this behavior.\n",
      "  _warn_prf(average, modifier, msg_start, len(result))\n"
     ]
    }
   ],
   "source": [
    "# Best parameters after tuning:\n",
    "rf = RandomForestClassifier(random_state=100, n_estimators=400, criterion='gini', max_depth=12, max_features=4)\n",
    "y_pred = rf.fit(X_train, Y_train).predict(Xtest)\n",
    "f1_rf = f1_score(Ytest, y_pred, average='macro')\n",
    "acc_rf = accuracy_score(y_pred, Ytest)\n",
    "print(\"F1 Score for Random Forest Classifier is\", f1_rf)\n",
    "print(\"Accuracy Score for Random Forest Classifier is\", acc_rf)\n",
    "print(classification_report(Ytest,y_pred))"
   ]
  },
  {
   "cell_type": "markdown",
   "metadata": {},
   "source": [
    "## 5) Support Vector Classifier"
   ]
  },
  {
   "cell_type": "code",
   "execution_count": 54,
   "metadata": {},
   "outputs": [
    {
     "data": {
      "text/plain": [
       "GridSearchCV(cv=5, estimator=SVC(random_state=100),\n",
       "             param_grid={'C': [0.1, 0.8, 0.9, 1, 1.1, 1.2, 1.3, 1.4],\n",
       "                         'kernel': ['linear', 'rbf']})"
      ]
     },
     "execution_count": 54,
     "metadata": {},
     "output_type": "execute_result"
    }
   ],
   "source": [
    "svc=SVC(random_state=100)\n",
    "\n",
    "param_grid = { \n",
    "    'C': [0.1,0.8,0.9,1,1.1,1.2,1.3,1.4],\n",
    "    'kernel': ['linear','rbf']\n",
    "}\n",
    "\n",
    "CV_svc = GridSearchCV(estimator=svc, param_grid=param_grid, cv= 5)\n",
    "CV_svc.fit(X_train, Y_train)"
   ]
  },
  {
   "cell_type": "code",
   "execution_count": 55,
   "metadata": {},
   "outputs": [
    {
     "data": {
      "text/plain": [
       "{'C': 1.2, 'kernel': 'linear'}"
      ]
     },
     "execution_count": 55,
     "metadata": {},
     "output_type": "execute_result"
    }
   ],
   "source": [
    "CV_svc.best_params_"
   ]
  },
  {
   "cell_type": "code",
   "execution_count": 51,
   "metadata": {},
   "outputs": [
    {
     "name": "stdout",
     "output_type": "stream",
     "text": [
      "F1 Score for Support Vector Classifier is 0.220895315531738\n",
      "Accuracy Score for Support Vector Classifier is 0.609375\n",
      "              precision    recall  f1-score   support\n",
      "\n",
      "           3       0.00      0.00      0.00         3\n",
      "           4       0.00      0.00      0.00        12\n",
      "           5       0.67      0.71      0.69       133\n",
      "           6       0.56      0.74      0.64       137\n",
      "           7       0.00      0.00      0.00        32\n",
      "           8       0.00      0.00      0.00         3\n",
      "\n",
      "    accuracy                           0.61       320\n",
      "   macro avg       0.21      0.24      0.22       320\n",
      "weighted avg       0.52      0.61      0.56       320\n",
      "\n"
     ]
    },
    {
     "name": "stderr",
     "output_type": "stream",
     "text": [
      "C:\\Users\\Kiat Kai\\Documents\\anaconda3\\lib\\site-packages\\sklearn\\metrics\\_classification.py:1221: UndefinedMetricWarning: Precision and F-score are ill-defined and being set to 0.0 in labels with no predicted samples. Use `zero_division` parameter to control this behavior.\n",
      "  _warn_prf(average, modifier, msg_start, len(result))\n"
     ]
    }
   ],
   "source": [
    "# Best parameters after tuning:\n",
    "svc = SVC(random_state=100, C=1.2, kernel=\"linear\")\n",
    "y_pred = svc.fit(X_train, Y_train).predict(Xtest)\n",
    "f1_svc = f1_score(Ytest, y_pred, average='macro')\n",
    "acc_svc = accuracy_score(y_pred, Ytest)\n",
    "print(\"F1 Score for Support Vector Classifier is\", f1_svc)\n",
    "print(\"Accuracy Score for Support Vector Classifier is\", acc_svc)\n",
    "print(classification_report(Ytest,y_pred))"
   ]
  },
  {
   "cell_type": "markdown",
   "metadata": {},
   "source": [
    "## 6) Logistic Regression"
   ]
  },
  {
   "cell_type": "code",
   "execution_count": 17,
   "metadata": {},
   "outputs": [
    {
     "name": "stderr",
     "output_type": "stream",
     "text": [
      "C:\\Users\\Kiat Kai\\Documents\\anaconda3\\lib\\site-packages\\sklearn\\svm\\_base.py:977: ConvergenceWarning: Liblinear failed to converge, increase the number of iterations.\n",
      "  \"the number of iterations.\", ConvergenceWarning)\n",
      "C:\\Users\\Kiat Kai\\Documents\\anaconda3\\lib\\site-packages\\sklearn\\svm\\_base.py:977: ConvergenceWarning: Liblinear failed to converge, increase the number of iterations.\n",
      "  \"the number of iterations.\", ConvergenceWarning)\n",
      "C:\\Users\\Kiat Kai\\Documents\\anaconda3\\lib\\site-packages\\sklearn\\svm\\_base.py:977: ConvergenceWarning: Liblinear failed to converge, increase the number of iterations.\n",
      "  \"the number of iterations.\", ConvergenceWarning)\n",
      "C:\\Users\\Kiat Kai\\Documents\\anaconda3\\lib\\site-packages\\sklearn\\svm\\_base.py:977: ConvergenceWarning: Liblinear failed to converge, increase the number of iterations.\n",
      "  \"the number of iterations.\", ConvergenceWarning)\n",
      "C:\\Users\\Kiat Kai\\Documents\\anaconda3\\lib\\site-packages\\sklearn\\svm\\_base.py:977: ConvergenceWarning: Liblinear failed to converge, increase the number of iterations.\n",
      "  \"the number of iterations.\", ConvergenceWarning)\n",
      "C:\\Users\\Kiat Kai\\Documents\\anaconda3\\lib\\site-packages\\sklearn\\svm\\_base.py:977: ConvergenceWarning: Liblinear failed to converge, increase the number of iterations.\n",
      "  \"the number of iterations.\", ConvergenceWarning)\n"
     ]
    },
    {
     "data": {
      "text/plain": [
       "GridSearchCV(cv=5, estimator=LogisticRegression(random_state=100),\n",
       "             param_grid={'C': array([1.00000000e-04, 2.63665090e-04, 6.95192796e-04, 1.83298071e-03,\n",
       "       4.83293024e-03, 1.27427499e-02, 3.35981829e-02, 8.85866790e-02,\n",
       "       2.33572147e-01, 6.15848211e-01, 1.62377674e+00, 4.28133240e+00,\n",
       "       1.12883789e+01, 2.97635144e+01, 7.84759970e+01, 2.06913808e+02,\n",
       "       5.45559478e+02, 1.43844989e+03, 3.79269019e+03, 1.00000000e+04]),\n",
       "                         'penalty': ['l1', 'l2'], 'solver': ['liblinear']})"
      ]
     },
     "execution_count": 17,
     "metadata": {},
     "output_type": "execute_result"
    }
   ],
   "source": [
    "LR = LogisticRegression(random_state=100)\n",
    "\n",
    "param_grid = {\n",
    "    'penalty' : ['l1', 'l2'],\n",
    "    'C' : np.logspace(-4, 4, 20),\n",
    "    'solver' : ['liblinear']\n",
    "}\n",
    "\n",
    "# Create grid search object\n",
    "CV_Lr = GridSearchCV(estimator=LR, param_grid=param_grid, cv= 5)\n",
    "CV_Lr.fit(X_train, Y_train)"
   ]
  },
  {
   "cell_type": "code",
   "execution_count": 18,
   "metadata": {},
   "outputs": [
    {
     "data": {
      "text/plain": [
       "{'C': 78.47599703514607, 'penalty': 'l2', 'solver': 'liblinear'}"
      ]
     },
     "execution_count": 18,
     "metadata": {},
     "output_type": "execute_result"
    }
   ],
   "source": [
    "CV_Lr.best_params_"
   ]
  },
  {
   "cell_type": "code",
   "execution_count": 27,
   "metadata": {},
   "outputs": [
    {
     "name": "stdout",
     "output_type": "stream",
     "text": [
      "F1 Score for Multinomial Logistic Regression is 0.60625\n",
      "Accuracy Score for Logistics Regression is 0.60625\n",
      "              precision    recall  f1-score   support\n",
      "\n",
      "           3       0.00      0.00      0.00         3\n",
      "           4       0.00      0.00      0.00        12\n",
      "           5       0.67      0.72      0.70       133\n",
      "           6       0.57      0.67      0.62       137\n",
      "           7       0.35      0.19      0.24        32\n",
      "           8       0.00      0.00      0.00         3\n",
      "\n",
      "    accuracy                           0.61       320\n",
      "   macro avg       0.27      0.26      0.26       320\n",
      "weighted avg       0.56      0.61      0.58       320\n",
      "\n"
     ]
    },
    {
     "name": "stderr",
     "output_type": "stream",
     "text": [
      "C:\\Users\\Kiat Kai\\Documents\\anaconda3\\lib\\site-packages\\sklearn\\metrics\\_classification.py:1221: UndefinedMetricWarning: Precision and F-score are ill-defined and being set to 0.0 in labels with no predicted samples. Use `zero_division` parameter to control this behavior.\n",
      "  _warn_prf(average, modifier, msg_start, len(result))\n"
     ]
    }
   ],
   "source": [
    "# Best parameters after tuning:\n",
    "Lr = LogisticRegression(random_state=100, C=78.47599703514607, penalty='l2',solver='liblinear')\n",
    "y_pred = Lr.fit(X_train, Y_train).predict(Xtest)\n",
    "f1_Lr = f1_score(Ytest, y_pred, average='macro')\n",
    "acc_lr = accuracy_score(y_pred, Ytest)\n",
    "print(\"F1 Score for Multinomial Logistic Regression is\", f1_Lr)\n",
    "print(\"Accuracy Score for Logistics Regression is\", acc_lr)\n",
    "print(classification_report(Ytest,y_pred))"
   ]
  },
  {
   "cell_type": "markdown",
   "metadata": {},
   "source": [
    "## 7) Decision tree"
   ]
  },
  {
   "cell_type": "code",
   "execution_count": 20,
   "metadata": {},
   "outputs": [
    {
     "data": {
      "text/plain": [
       "GridSearchCV(cv=5, estimator=DecisionTreeClassifier(random_state=100),\n",
       "             param_grid={'criterion': ['gini', 'entropy'],\n",
       "                         'max_depth': array([ 1,  2,  3,  4,  5,  6,  7,  8,  9, 10, 11, 12, 13, 14, 15, 16, 17,\n",
       "       18, 19]),\n",
       "                         'max_features': ['auto', 'sqrt', 'log2']})"
      ]
     },
     "execution_count": 20,
     "metadata": {},
     "output_type": "execute_result"
    }
   ],
   "source": [
    "DT = DecisionTreeClassifier(random_state=100)\n",
    "\n",
    "param_grid = {\n",
    "    'criterion' : ['gini', 'entropy'],\n",
    "    'max_features' :['auto', 'sqrt', 'log2'],\n",
    "    'max_depth':np.arange(1,20)\n",
    "}\n",
    "\n",
    "# Create grid search object\n",
    "CV_tree = GridSearchCV(estimator=DT, param_grid=param_grid, cv= 5)\n",
    "CV_tree.fit(X_train, Y_train)\n"
   ]
  },
  {
   "cell_type": "code",
   "execution_count": 21,
   "metadata": {},
   "outputs": [
    {
     "data": {
      "text/plain": [
       "{'criterion': 'entropy', 'max_depth': 18, 'max_features': 'auto'}"
      ]
     },
     "execution_count": 21,
     "metadata": {},
     "output_type": "execute_result"
    }
   ],
   "source": [
    "CV_tree.best_params_"
   ]
  },
  {
   "cell_type": "code",
   "execution_count": 26,
   "metadata": {},
   "outputs": [
    {
     "name": "stdout",
     "output_type": "stream",
     "text": [
      "F1 Score for Decision Tree is 0.615625\n",
      "Accuracy Score for decision tree classifier is 0.615625\n",
      "              precision    recall  f1-score   support\n",
      "\n",
      "           3       0.00      0.00      0.00         3\n",
      "           4       0.22      0.17      0.19        12\n",
      "           5       0.69      0.74      0.71       133\n",
      "           6       0.66      0.55      0.60       137\n",
      "           7       0.42      0.66      0.51        32\n",
      "           8       0.00      0.00      0.00         3\n",
      "\n",
      "    accuracy                           0.62       320\n",
      "   macro avg       0.33      0.35      0.34       320\n",
      "weighted avg       0.62      0.62      0.61       320\n",
      "\n"
     ]
    },
    {
     "name": "stderr",
     "output_type": "stream",
     "text": [
      "C:\\Users\\Kiat Kai\\Documents\\anaconda3\\lib\\site-packages\\sklearn\\metrics\\_classification.py:1221: UndefinedMetricWarning: Precision and F-score are ill-defined and being set to 0.0 in labels with no predicted samples. Use `zero_division` parameter to control this behavior.\n",
      "  _warn_prf(average, modifier, msg_start, len(result))\n"
     ]
    }
   ],
   "source": [
    "# Best parameters after tuning:\n",
    "Dt = DecisionTreeClassifier(random_state=100, criterion='gini', max_depth=16, max_features='auto')\n",
    "y_pred = Dt.fit(X_train, Y_train).predict(Xtest)\n",
    "f1_Dt = f1_score(Ytest, y_pred, average='macro')\n",
    "acc_dt = accuracy_score(y_pred, Ytest)\n",
    "print(\"F1 Score for Decision Tree is\", f1_Dt)\n",
    "print(\"Accuracy Score for decision tree classifier is\", acc_dt)\n",
    "print(classification_report(Ytest,y_pred))"
   ]
  },
  {
   "cell_type": "markdown",
   "metadata": {},
   "source": [
    "## Evaluating all models"
   ]
  },
  {
   "cell_type": "code",
   "execution_count": 56,
   "metadata": {},
   "outputs": [
    {
     "data": {
      "text/html": [
       "<div>\n",
       "<style scoped>\n",
       "    .dataframe tbody tr th:only-of-type {\n",
       "        vertical-align: middle;\n",
       "    }\n",
       "\n",
       "    .dataframe tbody tr th {\n",
       "        vertical-align: top;\n",
       "    }\n",
       "\n",
       "    .dataframe thead th {\n",
       "        text-align: right;\n",
       "    }\n",
       "</style>\n",
       "<table border=\"1\" class=\"dataframe\">\n",
       "  <thead>\n",
       "    <tr style=\"text-align: right;\">\n",
       "      <th></th>\n",
       "      <th>Models</th>\n",
       "      <th>F1 Score</th>\n",
       "      <th>Accuracy Score</th>\n",
       "    </tr>\n",
       "  </thead>\n",
       "  <tbody>\n",
       "    <tr>\n",
       "      <th>6</th>\n",
       "      <td>Decision Tree</td>\n",
       "      <td>0.615625</td>\n",
       "      <td>0.615625</td>\n",
       "    </tr>\n",
       "    <tr>\n",
       "      <th>5</th>\n",
       "      <td>Multinomial Logistic Regression</td>\n",
       "      <td>0.606250</td>\n",
       "      <td>0.606250</td>\n",
       "    </tr>\n",
       "    <tr>\n",
       "      <th>0</th>\n",
       "      <td>Linear Discriminant Analysis</td>\n",
       "      <td>0.600000</td>\n",
       "      <td>0.600000</td>\n",
       "    </tr>\n",
       "    <tr>\n",
       "      <th>1</th>\n",
       "      <td>Quadratic Discriminant Analysis</td>\n",
       "      <td>0.553125</td>\n",
       "      <td>0.553125</td>\n",
       "    </tr>\n",
       "    <tr>\n",
       "      <th>2</th>\n",
       "      <td>Naive Bayes</td>\n",
       "      <td>0.531250</td>\n",
       "      <td>0.531250</td>\n",
       "    </tr>\n",
       "    <tr>\n",
       "      <th>3</th>\n",
       "      <td>Random Forest</td>\n",
       "      <td>0.354459</td>\n",
       "      <td>0.721875</td>\n",
       "    </tr>\n",
       "    <tr>\n",
       "      <th>4</th>\n",
       "      <td>Support Vector Classifier</td>\n",
       "      <td>0.220895</td>\n",
       "      <td>0.609375</td>\n",
       "    </tr>\n",
       "  </tbody>\n",
       "</table>\n",
       "</div>"
      ],
      "text/plain": [
       "                            Models  F1 Score  Accuracy Score\n",
       "6                    Decision Tree  0.615625        0.615625\n",
       "5  Multinomial Logistic Regression  0.606250        0.606250\n",
       "0     Linear Discriminant Analysis  0.600000        0.600000\n",
       "1  Quadratic Discriminant Analysis  0.553125        0.553125\n",
       "2                      Naive Bayes  0.531250        0.531250\n",
       "3                    Random Forest  0.354459        0.721875\n",
       "4        Support Vector Classifier  0.220895        0.609375"
      ]
     },
     "execution_count": 56,
     "metadata": {},
     "output_type": "execute_result"
    }
   ],
   "source": [
    "# Dataframe to contain model results\n",
    "model_results = pd.DataFrame(columns=[\"Models\",\"F1 Score\",\"Accuracy Score\"])\n",
    "\n",
    "# LDA\n",
    "model_results = model_results.append(pd.DataFrame({\"Models\":\"Linear Discriminant Analysis\", \n",
    "                                  \"F1 Score\":f1_lda, \"Accuracy Score\":acc_lda}\n",
    "                                                  , index = [0]), ignore_index = False)\n",
    "# QDA\n",
    "model_results = model_results.append(pd.DataFrame({\"Models\":\"Quadratic Discriminant Analysis\", \n",
    "                                  \"F1 Score\":f1_qda, \"Accuracy Score\":acc_qda}\n",
    "                                                  , index = [1]), ignore_index = False)\n",
    "# Naive Bayes\n",
    "model_results = model_results.append(pd.DataFrame({\"Models\":\"Naive Bayes\", \n",
    "                                  \"F1 Score\":f1_nb, \"Accuracy Score\":acc_nb}\n",
    "                                                  , index = [2]), ignore_index = False)\n",
    "# Random Forest\n",
    "model_results = model_results.append(pd.DataFrame({\"Models\":\"Random Forest\", \n",
    "                                  \"F1 Score\":f1_rf, \"Accuracy Score\":acc_rf}\n",
    "                                                  , index = [3]), ignore_index = False)\n",
    "# Support Vector Classifier\n",
    "model_results = model_results.append(pd.DataFrame({\"Models\":\"Support Vector Classifier\", \n",
    "                                  \"F1 Score\":f1_svc, \"Accuracy Score\":acc_svc}\n",
    "                                                  , index = [4]), ignore_index = False)\n",
    "# Multinomial Logistic Regression\n",
    "model_results = model_results.append(pd.DataFrame({\"Models\":\"Multinomial Logistic Regression\", \n",
    "                                  \"F1 Score\":f1_Lr, \"Accuracy Score\":acc_lr}\n",
    "                                                  , index = [5]), ignore_index = False)\n",
    "# Decision Tree\n",
    "model_results = model_results.append(pd.DataFrame({\"Models\":\"Decision Tree\", \n",
    "                                  \"F1 Score\":f1_Dt, \"Accuracy Score\":acc_dt}\n",
    "                                                  , index = [6]), ignore_index = False)\n",
    "\n",
    "model_results.to_csv(\"model_results_noupsample.csv\")\n",
    "model_results.sort_values(by=\"F1 Score\", ascending = False)"
   ]
  }
 ],
 "metadata": {
  "kernelspec": {
   "display_name": "Python 3",
   "language": "python",
   "name": "python3"
  },
  "language_info": {
   "codemirror_mode": {
    "name": "ipython",
    "version": 3
   },
   "file_extension": ".py",
   "mimetype": "text/x-python",
   "name": "python",
   "nbconvert_exporter": "python",
   "pygments_lexer": "ipython3",
   "version": "3.7.4"
  }
 },
 "nbformat": 4,
 "nbformat_minor": 2
}
