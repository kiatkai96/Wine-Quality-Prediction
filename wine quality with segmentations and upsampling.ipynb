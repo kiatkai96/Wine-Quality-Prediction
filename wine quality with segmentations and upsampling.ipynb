{
 "cells": [
  {
   "cell_type": "code",
   "execution_count": 62,
   "metadata": {},
   "outputs": [],
   "source": [
    "import pandas as pd\n",
    "import matplotlib.pyplot as plt\n",
    "from sklearn.utils import resample\n",
    "import numpy as np\n",
    "\n",
    "from sklearn.model_selection import train_test_split\n",
    "from sklearn.naive_bayes import GaussianNB\n",
    "from sklearn.ensemble import RandomForestClassifier\n",
    "from sklearn.discriminant_analysis import LinearDiscriminantAnalysis\n",
    "from sklearn.discriminant_analysis import QuadraticDiscriminantAnalysis\n",
    "from sklearn.svm import SVC\n",
    "from sklearn.linear_model import LogisticRegression\n",
    "from sklearn.tree import DecisionTreeClassifier\n",
    "\n",
    "from sklearn.preprocessing import MinMaxScaler\n",
    "from sklearn.metrics import f1_score\n",
    "from sklearn.model_selection import GridSearchCV\n",
    "from sklearn.metrics import classification_report, confusion_matrix, classification_report, accuracy_score"
   ]
  },
  {
   "cell_type": "code",
   "execution_count": 63,
   "metadata": {},
   "outputs": [],
   "source": [
    "full_df = pd.read_csv(\"C:/Users/Kiat Kai/Desktop/NOTES/Y4S2/ST4248/winequality-red.csv\")\n",
    "full_df.shape\n",
    "\n",
    "bins = (2, 4, 6, 8)\n",
    "group_names = ['bad', 'normal', 'good']\n",
    "full_df['quality'] = pd.cut(full_df['quality'], bins = bins, labels = group_names)\n",
    "full_df.to_csv(\"full_df_with_segmentation.csv\")"
   ]
  },
  {
   "cell_type": "code",
   "execution_count": 32,
   "metadata": {},
   "outputs": [
    {
     "data": {
      "text/html": [
       "<div>\n",
       "<style scoped>\n",
       "    .dataframe tbody tr th:only-of-type {\n",
       "        vertical-align: middle;\n",
       "    }\n",
       "\n",
       "    .dataframe tbody tr th {\n",
       "        vertical-align: top;\n",
       "    }\n",
       "\n",
       "    .dataframe thead th {\n",
       "        text-align: right;\n",
       "    }\n",
       "</style>\n",
       "<table border=\"1\" class=\"dataframe\">\n",
       "  <thead>\n",
       "    <tr style=\"text-align: right;\">\n",
       "      <th></th>\n",
       "      <th>fixed acidity</th>\n",
       "      <th>volatile acidity</th>\n",
       "      <th>citric acid</th>\n",
       "      <th>residual sugar</th>\n",
       "      <th>chlorides</th>\n",
       "      <th>free sulfur dioxide</th>\n",
       "      <th>total sulfur dioxide</th>\n",
       "      <th>density</th>\n",
       "      <th>pH</th>\n",
       "      <th>sulphates</th>\n",
       "      <th>alcohol</th>\n",
       "      <th>quality</th>\n",
       "    </tr>\n",
       "  </thead>\n",
       "  <tbody>\n",
       "    <tr>\n",
       "      <th>0</th>\n",
       "      <td>7.4</td>\n",
       "      <td>0.70</td>\n",
       "      <td>0.00</td>\n",
       "      <td>1.9</td>\n",
       "      <td>0.076</td>\n",
       "      <td>11.0</td>\n",
       "      <td>34.0</td>\n",
       "      <td>0.9978</td>\n",
       "      <td>3.51</td>\n",
       "      <td>0.56</td>\n",
       "      <td>9.4</td>\n",
       "      <td>normal</td>\n",
       "    </tr>\n",
       "    <tr>\n",
       "      <th>1</th>\n",
       "      <td>7.8</td>\n",
       "      <td>0.88</td>\n",
       "      <td>0.00</td>\n",
       "      <td>2.6</td>\n",
       "      <td>0.098</td>\n",
       "      <td>25.0</td>\n",
       "      <td>67.0</td>\n",
       "      <td>0.9968</td>\n",
       "      <td>3.20</td>\n",
       "      <td>0.68</td>\n",
       "      <td>9.8</td>\n",
       "      <td>normal</td>\n",
       "    </tr>\n",
       "    <tr>\n",
       "      <th>2</th>\n",
       "      <td>7.8</td>\n",
       "      <td>0.76</td>\n",
       "      <td>0.04</td>\n",
       "      <td>2.3</td>\n",
       "      <td>0.092</td>\n",
       "      <td>15.0</td>\n",
       "      <td>54.0</td>\n",
       "      <td>0.9970</td>\n",
       "      <td>3.26</td>\n",
       "      <td>0.65</td>\n",
       "      <td>9.8</td>\n",
       "      <td>normal</td>\n",
       "    </tr>\n",
       "    <tr>\n",
       "      <th>3</th>\n",
       "      <td>11.2</td>\n",
       "      <td>0.28</td>\n",
       "      <td>0.56</td>\n",
       "      <td>1.9</td>\n",
       "      <td>0.075</td>\n",
       "      <td>17.0</td>\n",
       "      <td>60.0</td>\n",
       "      <td>0.9980</td>\n",
       "      <td>3.16</td>\n",
       "      <td>0.58</td>\n",
       "      <td>9.8</td>\n",
       "      <td>normal</td>\n",
       "    </tr>\n",
       "    <tr>\n",
       "      <th>4</th>\n",
       "      <td>7.4</td>\n",
       "      <td>0.70</td>\n",
       "      <td>0.00</td>\n",
       "      <td>1.9</td>\n",
       "      <td>0.076</td>\n",
       "      <td>11.0</td>\n",
       "      <td>34.0</td>\n",
       "      <td>0.9978</td>\n",
       "      <td>3.51</td>\n",
       "      <td>0.56</td>\n",
       "      <td>9.4</td>\n",
       "      <td>normal</td>\n",
       "    </tr>\n",
       "  </tbody>\n",
       "</table>\n",
       "</div>"
      ],
      "text/plain": [
       "   fixed acidity  volatile acidity  citric acid  residual sugar  chlorides  \\\n",
       "0            7.4              0.70         0.00             1.9      0.076   \n",
       "1            7.8              0.88         0.00             2.6      0.098   \n",
       "2            7.8              0.76         0.04             2.3      0.092   \n",
       "3           11.2              0.28         0.56             1.9      0.075   \n",
       "4            7.4              0.70         0.00             1.9      0.076   \n",
       "\n",
       "   free sulfur dioxide  total sulfur dioxide  density    pH  sulphates  \\\n",
       "0                 11.0                  34.0   0.9978  3.51       0.56   \n",
       "1                 25.0                  67.0   0.9968  3.20       0.68   \n",
       "2                 15.0                  54.0   0.9970  3.26       0.65   \n",
       "3                 17.0                  60.0   0.9980  3.16       0.58   \n",
       "4                 11.0                  34.0   0.9978  3.51       0.56   \n",
       "\n",
       "   alcohol quality  \n",
       "0      9.4  normal  \n",
       "1      9.8  normal  \n",
       "2      9.8  normal  \n",
       "3      9.8  normal  \n",
       "4      9.4  normal  "
      ]
     },
     "execution_count": 32,
     "metadata": {},
     "output_type": "execute_result"
    }
   ],
   "source": [
    "full_df.head()"
   ]
  },
  {
   "cell_type": "markdown",
   "metadata": {},
   "source": [
    "## Perform preprocessing\n",
    "- We upsample those wine qualities with much lower counts than the majority wine quality"
   ]
  },
  {
   "cell_type": "code",
   "execution_count": 113,
   "metadata": {},
   "outputs": [
    {
     "name": "stdout",
     "output_type": "stream",
     "text": [
      "(63, 12)\n",
      "(1319, 12)\n",
      "(217, 12)\n"
     ]
    }
   ],
   "source": [
    "full_df_bad = full_df[full_df.quality==\"bad\"]\n",
    "full_df_normal = full_df[full_df.quality==\"normal\"]\n",
    "full_df_good = full_df[full_df.quality==\"good\"]\n",
    "print(full_df_bad.shape)\n",
    "print(full_df_normal.shape)\n",
    "print(full_df_good.shape)\n",
    "\n",
    "# Combine downsampled majority class with upsampled minority class\n",
    "data = pd.concat([full_df_bad, full_df_good, full_df]).reset_index(drop=True)\n",
    "\n",
    "data.to_csv(\"wine_segmentations.csv\")"
   ]
  },
  {
   "cell_type": "code",
   "execution_count": 38,
   "metadata": {},
   "outputs": [],
   "source": [
    "# Upsample MINORITY Class to make balance data :\n",
    "full_df_bad_upsampled = resample(full_df_bad, replace=True, n_samples=1319, random_state=12) \n",
    "full_df_good_upsampled = resample(full_df_good, replace=True, n_samples=1319, random_state=12)"
   ]
  },
  {
   "cell_type": "code",
   "execution_count": 114,
   "metadata": {},
   "outputs": [],
   "source": [
    "# Combine downsampled majority class with upsampled minority class\n",
    "data = pd.concat([full_df_bad_upsampled, full_df_good_upsampled, full_df_normal]).reset_index(drop=True)\n",
    "\n",
    "data.to_csv(\"balanced_wine_segmentations.csv\")"
   ]
  },
  {
   "cell_type": "code",
   "execution_count": 119,
   "metadata": {},
   "outputs": [
    {
     "data": {
      "text/html": [
       "<div>\n",
       "<style scoped>\n",
       "    .dataframe tbody tr th:only-of-type {\n",
       "        vertical-align: middle;\n",
       "    }\n",
       "\n",
       "    .dataframe tbody tr th {\n",
       "        vertical-align: top;\n",
       "    }\n",
       "\n",
       "    .dataframe thead th {\n",
       "        text-align: right;\n",
       "    }\n",
       "</style>\n",
       "<table border=\"1\" class=\"dataframe\">\n",
       "  <thead>\n",
       "    <tr style=\"text-align: right;\">\n",
       "      <th></th>\n",
       "      <th>fixed acidity</th>\n",
       "      <th>citric acid</th>\n",
       "      <th>residual sugar</th>\n",
       "      <th>density</th>\n",
       "      <th>pH</th>\n",
       "      <th>alcohol</th>\n",
       "    </tr>\n",
       "  </thead>\n",
       "  <tbody>\n",
       "    <tr>\n",
       "      <th>mean</th>\n",
       "      <td>8.349507</td>\n",
       "      <td>0.27559</td>\n",
       "      <td>2.656988</td>\n",
       "      <td>0.996531</td>\n",
       "      <td>3.322024</td>\n",
       "      <td>10.658517</td>\n",
       "    </tr>\n",
       "    <tr>\n",
       "      <th>std</th>\n",
       "      <td>1.809765</td>\n",
       "      <td>0.21126</td>\n",
       "      <td>1.570254</td>\n",
       "      <td>0.001921</td>\n",
       "      <td>0.160020</td>\n",
       "      <td>1.136520</td>\n",
       "    </tr>\n",
       "    <tr>\n",
       "      <th>min</th>\n",
       "      <td>4.600000</td>\n",
       "      <td>0.00000</td>\n",
       "      <td>0.900000</td>\n",
       "      <td>0.990070</td>\n",
       "      <td>2.740000</td>\n",
       "      <td>8.400000</td>\n",
       "    </tr>\n",
       "    <tr>\n",
       "      <th>25%</th>\n",
       "      <td>7.100000</td>\n",
       "      <td>0.07000</td>\n",
       "      <td>1.900000</td>\n",
       "      <td>0.995280</td>\n",
       "      <td>3.230000</td>\n",
       "      <td>9.700000</td>\n",
       "    </tr>\n",
       "    <tr>\n",
       "      <th>50%</th>\n",
       "      <td>8.000000</td>\n",
       "      <td>0.27000</td>\n",
       "      <td>2.200000</td>\n",
       "      <td>0.996520</td>\n",
       "      <td>3.320000</td>\n",
       "      <td>10.500000</td>\n",
       "    </tr>\n",
       "    <tr>\n",
       "      <th>75%</th>\n",
       "      <td>9.400000</td>\n",
       "      <td>0.45000</td>\n",
       "      <td>2.700000</td>\n",
       "      <td>0.997600</td>\n",
       "      <td>3.410000</td>\n",
       "      <td>11.400000</td>\n",
       "    </tr>\n",
       "  </tbody>\n",
       "</table>\n",
       "</div>"
      ],
      "text/plain": [
       "      fixed acidity  citric acid  residual sugar   density        pH  \\\n",
       "mean       8.349507      0.27559        2.656988  0.996531  3.322024   \n",
       "std        1.809765      0.21126        1.570254  0.001921  0.160020   \n",
       "min        4.600000      0.00000        0.900000  0.990070  2.740000   \n",
       "25%        7.100000      0.07000        1.900000  0.995280  3.230000   \n",
       "50%        8.000000      0.27000        2.200000  0.996520  3.320000   \n",
       "75%        9.400000      0.45000        2.700000  0.997600  3.410000   \n",
       "\n",
       "        alcohol  \n",
       "mean  10.658517  \n",
       "std    1.136520  \n",
       "min    8.400000  \n",
       "25%    9.700000  \n",
       "50%   10.500000  \n",
       "75%   11.400000  "
      ]
     },
     "execution_count": 119,
     "metadata": {},
     "output_type": "execute_result"
    }
   ],
   "source": [
    "data.describe()[[\"fixed acidity\",\"citric acid\",\"residual sugar\",\"density\",\"pH\",\"alcohol\"]].iloc[1:7,]"
   ]
  },
  {
   "cell_type": "markdown",
   "metadata": {},
   "source": [
    "## Train Test Split"
   ]
  },
  {
   "cell_type": "code",
   "execution_count": 40,
   "metadata": {},
   "outputs": [],
   "source": [
    "# Split into X and Y\n",
    "Y = data.iloc[:,-1]\n",
    "X = data.drop(data.columns[-1], axis=1)\n",
    "\n",
    "# Now, train test split\n",
    "X_train, Xtest, Y_train, Ytest = train_test_split(X, Y, train_size=0.8, random_state=101)\n",
    "\n",
    "# Scale the data to a range of 0 to 1\n",
    "#scaler = MinMaxScaler()\n",
    "#X_train = pd.DataFrame(scaler.fit_transform(X_train), columns = X_train.columns)\n",
    "#Xtest = pd.DataFrame(scaler.fit_transform(Xtest), columns = Xtest.columns)\n",
    "#Y_train = pd.DataFrame(scaler.fit_transform(Y_train.values.reshape(-1,1)), columns = [Y_train.name])\n",
    "#Ytest = pd.DataFrame(scaler.fit_transform(Ytest.values.reshape(-1,1)), columns = [Ytest.name])"
   ]
  },
  {
   "cell_type": "markdown",
   "metadata": {},
   "source": [
    "## 1) LDA"
   ]
  },
  {
   "cell_type": "code",
   "execution_count": 46,
   "metadata": {},
   "outputs": [
    {
     "name": "stdout",
     "output_type": "stream",
     "text": [
      "F1 Score for Linear Discriminant Analysis Classifier is 0.6937890058546466\n",
      "Accuracy Score for Linear Discriminant Analysis Classifier is 0.6982323232323232\n",
      "              precision    recall  f1-score   support\n",
      "\n",
      "         bad       0.68      0.74      0.71       255\n",
      "        good       0.77      0.85      0.81       264\n",
      "      normal       0.62      0.51      0.56       273\n",
      "\n",
      "    accuracy                           0.70       792\n",
      "   macro avg       0.69      0.70      0.69       792\n",
      "weighted avg       0.69      0.70      0.69       792\n",
      "\n"
     ]
    }
   ],
   "source": [
    "lda = LinearDiscriminantAnalysis()\n",
    "y_pred = lda.fit(X_train, Y_train).predict(Xtest)\n",
    "f1_lda = f1_score(Ytest, y_pred, average='macro')\n",
    "acc_lda = accuracy_score(y_pred, Ytest)\n",
    "print(\"F1 Score for Linear Discriminant Analysis Classifier is\", f1_lda)\n",
    "print(\"Accuracy Score for Linear Discriminant Analysis Classifier is\", acc_lda)\n",
    "print(classification_report(Ytest,y_pred))"
   ]
  },
  {
   "cell_type": "markdown",
   "metadata": {},
   "source": [
    "## 2) QDA"
   ]
  },
  {
   "cell_type": "code",
   "execution_count": 47,
   "metadata": {
    "scrolled": true
   },
   "outputs": [
    {
     "name": "stdout",
     "output_type": "stream",
     "text": [
      "F1 Score for Quadratic Discriminant Analysis Classifier is 0.7187900586567183\n",
      "Accuracy Score for Quadratic Discriminant Analysis Classifier is 0.7196969696969697\n",
      "              precision    recall  f1-score   support\n",
      "\n",
      "         bad       0.77      0.65      0.70       255\n",
      "        good       0.78      0.87      0.82       264\n",
      "      normal       0.62      0.64      0.63       273\n",
      "\n",
      "    accuracy                           0.72       792\n",
      "   macro avg       0.72      0.72      0.72       792\n",
      "weighted avg       0.72      0.72      0.72       792\n",
      "\n"
     ]
    }
   ],
   "source": [
    "qda = QuadraticDiscriminantAnalysis()\n",
    "y_pred = qda.fit(X_train, Y_train).predict(Xtest)\n",
    "f1_qda = f1_score(Ytest, y_pred, average='macro')\n",
    "acc_qda = accuracy_score(y_pred, Ytest)\n",
    "print(\"F1 Score for Quadratic Discriminant Analysis Classifier is\", f1_qda)\n",
    "print(\"Accuracy Score for Quadratic Discriminant Analysis Classifier is\", acc_qda)\n",
    "print(classification_report(Ytest,y_pred))"
   ]
  },
  {
   "cell_type": "markdown",
   "metadata": {},
   "source": [
    "## 3) Naive Bayes"
   ]
  },
  {
   "cell_type": "code",
   "execution_count": 48,
   "metadata": {},
   "outputs": [
    {
     "name": "stdout",
     "output_type": "stream",
     "text": [
      "F1 Score for Naive Bayes Classifier is 0.6539447016900598\n",
      "Accuracy Score for Naive Bayes Classifier is 0.6565656565656566\n",
      "              precision    recall  f1-score   support\n",
      "\n",
      "         bad       0.65      0.64      0.64       255\n",
      "        good       0.74      0.81      0.77       264\n",
      "      normal       0.57      0.52      0.54       273\n",
      "\n",
      "    accuracy                           0.66       792\n",
      "   macro avg       0.65      0.66      0.65       792\n",
      "weighted avg       0.65      0.66      0.65       792\n",
      "\n"
     ]
    }
   ],
   "source": [
    "gnb = GaussianNB()\n",
    "y_pred = gnb.fit(X_train, Y_train).predict(Xtest)\n",
    "f1_nb = f1_score(Ytest, y_pred, average='macro')\n",
    "acc_nb = accuracy_score(y_pred, Ytest)\n",
    "print(\"F1 Score for Naive Bayes Classifier is\", f1_nb)\n",
    "print(\"Accuracy Score for Naive Bayes Classifier is\", acc_nb)\n",
    "print(classification_report(Ytest,y_pred))"
   ]
  },
  {
   "cell_type": "markdown",
   "metadata": {},
   "source": [
    "## 4) Random Forest"
   ]
  },
  {
   "cell_type": "code",
   "execution_count": 76,
   "metadata": {},
   "outputs": [
    {
     "data": {
      "text/plain": [
       "GridSearchCV(cv=10, estimator=RandomForestClassifier(random_state=100),\n",
       "             param_grid={'criterion': ['gini', 'entropy'],\n",
       "                         'max_depth': [4, 6, 8, 10, 12, 14],\n",
       "                         'max_features': [3, 4],\n",
       "                         'n_estimators': [200, 300, 400, 500]})"
      ]
     },
     "execution_count": 76,
     "metadata": {},
     "output_type": "execute_result"
    }
   ],
   "source": [
    "rfc=RandomForestClassifier(random_state=100)\n",
    "\n",
    "param_grid = { \n",
    "    'n_estimators': [200, 300, 400, 500],\n",
    "    'max_features': [3, 4],\n",
    "    'max_depth' : [4,6,8,10,12,14],\n",
    "    'criterion' :['gini', 'entropy']\n",
    "}\n",
    "\n",
    "CV_rfc = GridSearchCV(estimator=rfc, param_grid=param_grid, cv= 10)\n",
    "CV_rfc.fit(X_train, Y_train)"
   ]
  },
  {
   "cell_type": "code",
   "execution_count": 77,
   "metadata": {},
   "outputs": [
    {
     "data": {
      "text/plain": [
       "{'criterion': 'entropy',\n",
       " 'max_depth': 14,\n",
       " 'max_features': 3,\n",
       " 'n_estimators': 200}"
      ]
     },
     "execution_count": 77,
     "metadata": {},
     "output_type": "execute_result"
    }
   ],
   "source": [
    "CV_rfc.best_params_"
   ]
  },
  {
   "cell_type": "code",
   "execution_count": 86,
   "metadata": {},
   "outputs": [
    {
     "name": "stdout",
     "output_type": "stream",
     "text": [
      "F1 Score for Random Forest Classifier is 0.9686785205539873\n",
      "Accuracy Score for Random Forest Classifier is 0.9684343434343434\n",
      "              precision    recall  f1-score   support\n",
      "\n",
      "         bad       0.98      1.00      0.99       255\n",
      "        good       0.95      0.98      0.96       264\n",
      "      normal       0.98      0.93      0.95       273\n",
      "\n",
      "    accuracy                           0.97       792\n",
      "   macro avg       0.97      0.97      0.97       792\n",
      "weighted avg       0.97      0.97      0.97       792\n",
      "\n"
     ]
    }
   ],
   "source": [
    "# Best parameters after tuning:\n",
    "rf = RandomForestClassifier(random_state=100, n_estimators=200, criterion='entropy', max_depth=14, max_features=3)\n",
    "y_pred = rf.fit(X_train, Y_train).predict(Xtest)\n",
    "f1_rf = f1_score(Ytest, y_pred, average='macro')\n",
    "acc_rf = accuracy_score(y_pred, Ytest)\n",
    "print(\"F1 Score for Random Forest Classifier is\", f1_rf)\n",
    "print(\"Accuracy Score for Random Forest Classifier is\", acc_rf)\n",
    "print(classification_report(Ytest,y_pred))"
   ]
  },
  {
   "cell_type": "code",
   "execution_count": 128,
   "metadata": {},
   "outputs": [
    {
     "data": {
      "image/png": "[encoded data removed]",
      "text/plain": [
       "<Figure size 864x360 with 1 Axes>"
      ]
     },
     "metadata": {
      "needs_background": "light"
     },
     "output_type": "display_data"
    }
   ],
   "source": [
    "# Calculate feature importances\n",
    "importances = rf.feature_importances_\n",
    "# Sort feature importances in descending order\n",
    "indices = np.argsort(importances)[::-1]\n",
    "\n",
    "# Rearrange feature names so they match the sorted feature importances\n",
    "names = [X.columns[i] for i in indices]\n",
    "\n",
    "# Barplot: Add bars\n",
    "plt.figure(figsize=(12,5))\n",
    "plt.bar(range(X.shape[1]), importances[indices], color=\"forestgreen\")\n",
    "# Add feature names as x-axis labels\n",
    "plt.xticks(range(X.shape[1]), names, rotation=20, fontsize = 10.5)\n",
    "# Create plot title\n",
    "plt.title(\"Feature Importance\")\n",
    "# Show plot\n",
    "plt.show()"
   ]
  },
  {
   "cell_type": "markdown",
   "metadata": {},
   "source": [
    "## 5) Support Vector Classifier"
   ]
  },
  {
   "cell_type": "code",
   "execution_count": 110,
   "metadata": {},
   "outputs": [
    {
     "data": {
      "text/plain": [
       "GridSearchCV(cv=5, estimator=SVC(random_state=100),\n",
       "             param_grid={'C': [0.1, 0.8, 0.9, 1, 1.1, 1.2, 1.3, 1.4],\n",
       "                         'kernel': ['linear', 'rbf']})"
      ]
     },
     "execution_count": 110,
     "metadata": {},
     "output_type": "execute_result"
    }
   ],
   "source": [
    "svc=SVC(random_state=100)\n",
    "\n",
    "param_grid = { \n",
    "    'C': [0.1,0.8,0.9,1,1.1,1.2,1.3,1.4],\n",
    "    'kernel': ['linear','rbf']\n",
    "}\n",
    "\n",
    "CV_svc = GridSearchCV(estimator=svc, param_grid=param_grid, cv= 5)\n",
    "CV_svc.fit(X_train, Y_train)"
   ]
  },
  {
   "cell_type": "code",
   "execution_count": 111,
   "metadata": {},
   "outputs": [
    {
     "data": {
      "text/plain": [
       "{'C': 1.4, 'kernel': 'linear'}"
      ]
     },
     "execution_count": 111,
     "metadata": {},
     "output_type": "execute_result"
    }
   ],
   "source": [
    "CV_svc.best_params_"
   ]
  },
  {
   "cell_type": "code",
   "execution_count": 109,
   "metadata": {},
   "outputs": [
    {
     "name": "stdout",
     "output_type": "stream",
     "text": [
      "F1 Score for Support Vector Classifier is 0.657424252042719\n",
      "Accuracy Score for Support Vector Classifier is 0.6666666666666666\n",
      "              precision    recall  f1-score   support\n",
      "\n",
      "         bad       0.62      0.76      0.69       255\n",
      "        good       0.77      0.83      0.80       264\n",
      "      normal       0.58      0.41      0.48       273\n",
      "\n",
      "    accuracy                           0.67       792\n",
      "   macro avg       0.66      0.67      0.66       792\n",
      "weighted avg       0.66      0.67      0.66       792\n",
      "\n"
     ]
    }
   ],
   "source": [
    "# Best parameters after tuning:\n",
    "svc = SVC(random_state=100, C=1.4, kernel=\"linear\")\n",
    "y_pred = svc.fit(X_train, Y_train).predict(Xtest)\n",
    "f1_svc = f1_score(Ytest, y_pred, average='macro')\n",
    "acc_svc = accuracy_score(y_pred, Ytest)\n",
    "print(\"F1 Score for Support Vector Classifier is\", f1_svc)\n",
    "print(\"Accuracy Score for Support Vector Classifier is\", acc_svc)\n",
    "print(classification_report(Ytest,y_pred))"
   ]
  },
  {
   "cell_type": "markdown",
   "metadata": {},
   "source": [
    "## 6) Logistic Regression"
   ]
  },
  {
   "cell_type": "code",
   "execution_count": 53,
   "metadata": {},
   "outputs": [
    {
     "data": {
      "text/plain": [
       "GridSearchCV(cv=5, estimator=LogisticRegression(random_state=100),\n",
       "             param_grid={'C': array([1.00000000e-04, 2.63665090e-04, 6.95192796e-04, 1.83298071e-03,\n",
       "       4.83293024e-03, 1.27427499e-02, 3.35981829e-02, 8.85866790e-02,\n",
       "       2.33572147e-01, 6.15848211e-01, 1.62377674e+00, 4.28133240e+00,\n",
       "       1.12883789e+01, 2.97635144e+01, 7.84759970e+01, 2.06913808e+02,\n",
       "       5.45559478e+02, 1.43844989e+03, 3.79269019e+03, 1.00000000e+04]),\n",
       "                         'penalty': ['l1', 'l2'], 'solver': ['liblinear']})"
      ]
     },
     "execution_count": 53,
     "metadata": {},
     "output_type": "execute_result"
    }
   ],
   "source": [
    "LR = LogisticRegression(random_state=100)\n",
    "\n",
    "param_grid = {\n",
    "    'penalty' : ['l1', 'l2'],\n",
    "    'C' : np.logspace(-4, 4, 20),\n",
    "    'solver' : ['liblinear']\n",
    "}\n",
    "\n",
    "# Create grid search object\n",
    "CV_Lr = GridSearchCV(estimator=LR, param_grid=param_grid, cv= 5)\n",
    "CV_Lr.fit(X_train, Y_train)"
   ]
  },
  {
   "cell_type": "code",
   "execution_count": 54,
   "metadata": {},
   "outputs": [
    {
     "data": {
      "text/plain": [
       "{'C': 29.763514416313132, 'penalty': 'l2', 'solver': 'liblinear'}"
      ]
     },
     "execution_count": 54,
     "metadata": {},
     "output_type": "execute_result"
    }
   ],
   "source": [
    "CV_Lr.best_params_"
   ]
  },
  {
   "cell_type": "code",
   "execution_count": 55,
   "metadata": {},
   "outputs": [
    {
     "name": "stdout",
     "output_type": "stream",
     "text": [
      "F1 Score for Multinomial Logistic Regression is 0.6736055017533946\n",
      "Accuracy Score for Logistics Regression is 0.6868686868686869\n",
      "              precision    recall  f1-score   support\n",
      "\n",
      "         bad       0.64      0.78      0.70       255\n",
      "        good       0.77      0.89      0.83       264\n",
      "      normal       0.62      0.41      0.49       273\n",
      "\n",
      "    accuracy                           0.69       792\n",
      "   macro avg       0.68      0.69      0.67       792\n",
      "weighted avg       0.68      0.69      0.67       792\n",
      "\n"
     ]
    }
   ],
   "source": [
    "# Best parameters after tuning:\n",
    "Lr = LogisticRegression(random_state=100, C=29.763514416313132, penalty='l2',solver='liblinear')\n",
    "y_pred = Lr.fit(X_train, Y_train).predict(Xtest)\n",
    "f1_Lr = f1_score(Ytest, y_pred, average='macro')\n",
    "acc_lr = accuracy_score(y_pred, Ytest)\n",
    "print(\"F1 Score for Multinomial Logistic Regression is\", f1_Lr)\n",
    "print(\"Accuracy Score for Logistics Regression is\", acc_lr)\n",
    "print(classification_report(Ytest,y_pred))"
   ]
  },
  {
   "cell_type": "markdown",
   "metadata": {},
   "source": [
    "## 7) Decision tree"
   ]
  },
  {
   "cell_type": "code",
   "execution_count": 56,
   "metadata": {},
   "outputs": [
    {
     "data": {
      "text/plain": [
       "GridSearchCV(cv=5, estimator=DecisionTreeClassifier(random_state=100),\n",
       "             param_grid={'criterion': ['gini', 'entropy'],\n",
       "                         'max_depth': array([ 1,  2,  3,  4,  5,  6,  7,  8,  9, 10, 11, 12, 13, 14, 15, 16, 17,\n",
       "       18, 19]),\n",
       "                         'max_features': ['auto', 'sqrt', 'log2']})"
      ]
     },
     "execution_count": 56,
     "metadata": {},
     "output_type": "execute_result"
    }
   ],
   "source": [
    "DT = DecisionTreeClassifier(random_state=100)\n",
    "\n",
    "param_grid = {\n",
    "    'criterion' : ['gini', 'entropy'],\n",
    "    'max_features' :['auto', 'sqrt', 'log2'],\n",
    "    'max_depth':np.arange(1,20)\n",
    "}\n",
    "\n",
    "# Create grid search object\n",
    "CV_tree = GridSearchCV(estimator=DT, param_grid=param_grid, cv= 5)\n",
    "CV_tree.fit(X_train, Y_train)\n"
   ]
  },
  {
   "cell_type": "code",
   "execution_count": 57,
   "metadata": {},
   "outputs": [
    {
     "data": {
      "text/plain": [
       "{'criterion': 'gini', 'max_depth': 19, 'max_features': 'auto'}"
      ]
     },
     "execution_count": 57,
     "metadata": {},
     "output_type": "execute_result"
    }
   ],
   "source": [
    "CV_tree.best_params_"
   ]
  },
  {
   "cell_type": "code",
   "execution_count": 58,
   "metadata": {},
   "outputs": [
    {
     "name": "stdout",
     "output_type": "stream",
     "text": [
      "F1 Score for Decision Tree is 0.9571614480889795\n",
      "Accuracy Score for decision tree classifier is 0.9570707070707071\n",
      "              precision    recall  f1-score   support\n",
      "\n",
      "         bad       0.97      1.00      0.98       255\n",
      "        good       0.93      0.98      0.95       264\n",
      "      normal       0.98      0.89      0.93       273\n",
      "\n",
      "    accuracy                           0.96       792\n",
      "   macro avg       0.96      0.96      0.96       792\n",
      "weighted avg       0.96      0.96      0.96       792\n",
      "\n"
     ]
    }
   ],
   "source": [
    "# Best parameters after tuning:\n",
    "Dt = DecisionTreeClassifier(random_state=100, criterion='gini', max_depth=19, max_features='auto')\n",
    "y_pred = Dt.fit(X_train, Y_train).predict(Xtest)\n",
    "f1_Dt = f1_score(Ytest, y_pred, average='macro')\n",
    "acc_dt = accuracy_score(y_pred, Ytest)\n",
    "print(\"F1 Score for Decision Tree is\", f1_Dt)\n",
    "print(\"Accuracy Score for decision tree classifier is\", acc_dt)\n",
    "print(classification_report(Ytest,y_pred))"
   ]
  },
  {
   "cell_type": "markdown",
   "metadata": {},
   "source": [
    "## Evaluating all models"
   ]
  },
  {
   "cell_type": "code",
   "execution_count": 112,
   "metadata": {},
   "outputs": [
    {
     "name": "stdout",
     "output_type": "stream",
     "text": [
      "                            Models  F1 Score  Accuracy Score\n",
      "3                    Random Forest  0.968679        0.968434\n",
      "6                    Decision Tree  0.957161        0.957071\n",
      "1  Quadratic Discriminant Analysis  0.718790        0.719697\n",
      "0     Linear Discriminant Analysis  0.693789        0.698232\n",
      "5  Multinomial Logistic Regression  0.673606        0.686869\n",
      "4        Support Vector Classifier  0.657424        0.666667\n",
      "2                      Naive Bayes  0.653945        0.656566\n"
     ]
    }
   ],
   "source": [
    "# Dataframe to contain model results\n",
    "model_results = pd.DataFrame(columns=[\"Models\",\"F1 Score\",\"Accuracy Score\"])\n",
    "\n",
    "# LDA\n",
    "model_results = model_results.append(pd.DataFrame({\"Models\":\"Linear Discriminant Analysis\", \n",
    "                                  \"F1 Score\":f1_lda, \"Accuracy Score\":acc_lda}\n",
    "                                                  , index = [0]), ignore_index = False)\n",
    "# QDA\n",
    "model_results = model_results.append(pd.DataFrame({\"Models\":\"Quadratic Discriminant Analysis\", \n",
    "                                  \"F1 Score\":f1_qda, \"Accuracy Score\":acc_qda}\n",
    "                                                  , index = [1]), ignore_index = False)\n",
    "# Naive Bayes\n",
    "model_results = model_results.append(pd.DataFrame({\"Models\":\"Naive Bayes\", \n",
    "                                  \"F1 Score\":f1_nb, \"Accuracy Score\":acc_nb}\n",
    "                                                  , index = [2]), ignore_index = False)\n",
    "# Random Forest\n",
    "model_results = model_results.append(pd.DataFrame({\"Models\":\"Random Forest\", \n",
    "                                  \"F1 Score\":f1_rf, \"Accuracy Score\":acc_rf}\n",
    "                                                  , index = [3]), ignore_index = False)\n",
    "# Support Vector Classifier\n",
    "model_results = model_results.append(pd.DataFrame({\"Models\":\"Support Vector Classifier\", \n",
    "                                  \"F1 Score\":f1_svc, \"Accuracy Score\":acc_svc}\n",
    "                                                  , index = [4]), ignore_index = False)\n",
    "# Multinomial Logistic Regression\n",
    "model_results = model_results.append(pd.DataFrame({\"Models\":\"Multinomial Logistic Regression\", \n",
    "                                  \"F1 Score\":f1_Lr, \"Accuracy Score\":acc_lr}\n",
    "                                                  , index = [5]), ignore_index = False)\n",
    "# Decision Tree\n",
    "model_results = model_results.append(pd.DataFrame({\"Models\":\"Decision Tree\", \n",
    "                                  \"F1 Score\":f1_Dt, \"Accuracy Score\":acc_dt}\n",
    "                                                  , index = [6]), ignore_index = False)\n",
    "\n",
    "print(model_results.sort_values(by=\"F1 Score\", ascending = False))\n",
    "model_results.to_csv(\"model_results_upsample_segmentation.csv\")"
   ]
  },
  {
   "cell_type": "code",
   "execution_count": 72,
   "metadata": {},
   "outputs": [
    {
     "data": {
      "text/plain": [
       "<matplotlib.legend.Legend at 0x1d5758b0d08>"
      ]
     },
     "execution_count": 72,
     "metadata": {},
     "output_type": "execute_result"
    },
    {
     "data": {
      "image/png": "[encoded data removed]",
      "text/plain": [
       "<Figure size 432x288 with 1 Axes>"
      ]
     },
     "metadata": {
      "needs_background": "light"
     },
     "output_type": "display_data"
    }
   ],
   "source": [
    "model_results = model_results.set_index(model_results.Models)\n",
    "model_results.iloc[:,1].plot.bar(x=model_results.Models,y=model_results[\"F1 Score\"])\n",
    "plt.legend()"
   ]
  }
 ],
 "metadata": {
  "kernelspec": {
   "display_name": "Python 3",
   "language": "python",
   "name": "python3"
  },
  "language_info": {
   "codemirror_mode": {
    "name": "ipython",
    "version": 3
   },
   "file_extension": ".py",
   "mimetype": "text/x-python",
   "name": "python",
   "nbconvert_exporter": "python",
   "pygments_lexer": "ipython3",
   "version": "3.7.4"
  }
 },
 "nbformat": 4,
 "nbformat_minor": 2
}
