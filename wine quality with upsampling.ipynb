{
 "cells": [
  {
   "cell_type": "code",
   "execution_count": 183,
   "metadata": {},
   "outputs": [],
   "source": [
    "import pandas as pd\n",
    "import matplotlib.pyplot as plt\n",
    "from sklearn.utils import resample\n",
    "import numpy as np\n",
    "\n",
    "from sklearn.model_selection import train_test_split\n",
    "from sklearn.naive_bayes import GaussianNB\n",
    "from sklearn.ensemble import RandomForestClassifier\n",
    "from sklearn.discriminant_analysis import LinearDiscriminantAnalysis\n",
    "from sklearn.discriminant_analysis import QuadraticDiscriminantAnalysis\n",
    "from sklearn.svm import SVC\n",
    "from sklearn.linear_model import LogisticRegression\n",
    "from sklearn.tree import DecisionTreeClassifier\n",
    "\n",
    "from sklearn.preprocessing import MinMaxScaler\n",
    "from sklearn.metrics import f1_score\n",
    "from sklearn.model_selection import GridSearchCV\n",
    "from sklearn.metrics import classification_report, confusion_matrix, classification_report, accuracy_score"
   ]
  },
  {
   "cell_type": "code",
   "execution_count": 15,
   "metadata": {},
   "outputs": [
    {
     "data": {
      "text/plain": [
       "(1599, 12)"
      ]
     },
     "execution_count": 15,
     "metadata": {},
     "output_type": "execute_result"
    }
   ],
   "source": [
    "full_df = pd.read_csv(\"C:/Users/Kiat Kai/Desktop/NOTES/Y4S2/ST4248/winequality-red.csv\")\n",
    "full_df.shape"
   ]
  },
  {
   "cell_type": "markdown",
   "metadata": {},
   "source": [
    "## Perform preprocessing\n",
    "- We upsample those wine qualities with much lower counts than the majority wine quality"
   ]
  },
  {
   "cell_type": "code",
   "execution_count": 83,
   "metadata": {},
   "outputs": [],
   "source": [
    "full_df_3 = full_df[full_df.quality==3]     # MINORITY          \n",
    "full_df_4 = full_df[full_df.quality==4]     # MINORITY          \n",
    "full_df_5 = full_df[full_df.quality==5]     # MAJORITY\n",
    "full_df_6 = full_df[full_df.quality==6]     # MAJORITY\n",
    "full_df_7 = full_df[full_df.quality==7]     # MINORITY\n",
    "full_df_8 = full_df[full_df.quality==8]     # MINORITY"
   ]
  },
  {
   "cell_type": "code",
   "execution_count": 84,
   "metadata": {},
   "outputs": [],
   "source": [
    "# Upsample MINORITY Class to make balance data :\n",
    "full_df_3_upsampled = resample(full_df_3, replace=True, n_samples=681, random_state=12) \n",
    "full_df_4_upsampled = resample(full_df_4, replace=True, n_samples=681, random_state=12) \n",
    "full_df_6_upsampled = resample(full_df_6, replace=True, n_samples=681, random_state=12)\n",
    "full_df_7_upsampled = resample(full_df_7, replace=True, n_samples=681, random_state=12) \n",
    "full_df_8_upsampled = resample(full_df_8, replace=True, n_samples=681, random_state=12) "
   ]
  },
  {
   "cell_type": "code",
   "execution_count": 113,
   "metadata": {},
   "outputs": [],
   "source": [
    "# Combine downsampled majority class with upsampled minority class\n",
    "data = pd.concat([full_df_3_upsampled, full_df_4_upsampled, full_df_7_upsampled, \n",
    "                              full_df_8_upsampled, full_df_5, full_df_6_upsampled]).reset_index(drop=True)\n",
    "data.to_csv(\"balanced_wine.csv\")"
   ]
  },
  {
   "cell_type": "markdown",
   "metadata": {},
   "source": [
    "## Train Test Split"
   ]
  },
  {
   "cell_type": "code",
   "execution_count": 146,
   "metadata": {},
   "outputs": [],
   "source": [
    "# Split into X and Y\n",
    "Y = data.iloc[:,-1]\n",
    "X = data.drop(data.columns[-1], axis=1)\n",
    "\n",
    "# Now, train test split\n",
    "X_train, Xtest, Y_train, Ytest = train_test_split(X, Y, train_size=0.8, random_state=101)\n",
    "\n",
    "# Scale the data to a range of 0 to 1\n",
    "#scaler = MinMaxScaler()\n",
    "#X_train = pd.DataFrame(scaler.fit_transform(X_train), columns = X_train.columns)\n",
    "#Xtest = pd.DataFrame(scaler.fit_transform(Xtest), columns = Xtest.columns)\n",
    "#Y_train = pd.DataFrame(scaler.fit_transform(Y_train.values.reshape(-1,1)), columns = [Y_train.name])\n",
    "#Ytest = pd.DataFrame(scaler.fit_transform(Ytest.values.reshape(-1,1)), columns = [Ytest.name])"
   ]
  },
  {
   "cell_type": "markdown",
   "metadata": {},
   "source": [
    "## 1) LDA"
   ]
  },
  {
   "cell_type": "code",
   "execution_count": 150,
   "metadata": {},
   "outputs": [
    {
     "name": "stdout",
     "output_type": "stream",
     "text": [
      "F1 Score for Linear Discriminant Analysis Classifier is 0.48655256723716384\n",
      "Accuracy Score for Linear Discriminant Analysis Classifier is 0.48655256723716384\n",
      "              precision    recall  f1-score   support\n",
      "\n",
      "           3       0.67      0.63      0.65       142\n",
      "           4       0.39      0.36      0.37       139\n",
      "           5       0.50      0.49      0.49       161\n",
      "           6       0.36      0.34      0.35       120\n",
      "           7       0.43      0.49      0.46       131\n",
      "           8       0.56      0.59      0.57       125\n",
      "\n",
      "    accuracy                           0.49       818\n",
      "   macro avg       0.48      0.48      0.48       818\n",
      "weighted avg       0.49      0.49      0.49       818\n",
      "\n"
     ]
    }
   ],
   "source": [
    "lda = LinearDiscriminantAnalysis()\n",
    "y_pred = lda.fit(X_train, Y_train).predict(Xtest)\n",
    "f1_lda = f1_score(Ytest, y_pred, average='macro')\n",
    "acc_lda = accuracy_score(y_pred, Ytest)\n",
    "print(\"F1 Score for Linear Discriminant Analysis Classifier is\", f1_lda)\n",
    "print(\"Accuracy Score for Linear Discriminant Analysis Classifier is\", acc_lda)\n",
    "print(classification_report(Ytest,y_pred))"
   ]
  },
  {
   "cell_type": "markdown",
   "metadata": {},
   "source": [
    "## 2) QDA"
   ]
  },
  {
   "cell_type": "code",
   "execution_count": 151,
   "metadata": {
    "scrolled": true
   },
   "outputs": [
    {
     "name": "stdout",
     "output_type": "stream",
     "text": [
      "F1 Score for Quadratic Discriminant Analysis Classifier is 0.6662591687041565\n",
      "Accuracy Score for Linear Discriminant Analysis Classifier is 0.6662591687041565\n",
      "              precision    recall  f1-score   support\n",
      "\n",
      "           3       1.00      1.00      1.00       142\n",
      "           4       0.61      0.44      0.51       139\n",
      "           5       0.55      0.55      0.55       161\n",
      "           6       0.38      0.46      0.41       120\n",
      "           7       0.67      0.56      0.61       131\n",
      "           8       0.79      1.00      0.88       125\n",
      "\n",
      "    accuracy                           0.67       818\n",
      "   macro avg       0.67      0.67      0.66       818\n",
      "weighted avg       0.67      0.67      0.66       818\n",
      "\n"
     ]
    },
    {
     "name": "stderr",
     "output_type": "stream",
     "text": [
      "C:\\Users\\Kiat Kai\\Documents\\anaconda3\\lib\\site-packages\\sklearn\\discriminant_analysis.py:715: UserWarning: Variables are collinear\n",
      "  warnings.warn(\"Variables are collinear\")\n"
     ]
    }
   ],
   "source": [
    "qda = QuadraticDiscriminantAnalysis()\n",
    "y_pred = qda.fit(X_train, Y_train).predict(Xtest)\n",
    "f1_qda = f1_score(Ytest, y_pred, average='macro')\n",
    "acc_qda = accuracy_score(y_pred, Ytest)\n",
    "print(\"F1 Score for Quadratic Discriminant Analysis Classifier is\", f1_qda)\n",
    "print(\"Accuracy Score for Quadratic Discriminant Analysis Classifier is\", acc_qda)\n",
    "print(classification_report(Ytest,y_pred))"
   ]
  },
  {
   "cell_type": "markdown",
   "metadata": {},
   "source": [
    "## 3) Naive Bayes"
   ]
  },
  {
   "cell_type": "code",
   "execution_count": 152,
   "metadata": {},
   "outputs": [
    {
     "name": "stdout",
     "output_type": "stream",
     "text": [
      "F1 Score for Naive Bayes Classifier is 0.4963325183374083\n",
      "Accuracy Score for Naive Bayes Classifier is 0.4963325183374083\n",
      "              precision    recall  f1-score   support\n",
      "\n",
      "           3       0.57      0.81      0.67       142\n",
      "           4       0.40      0.19      0.25       139\n",
      "           5       0.49      0.47      0.48       161\n",
      "           6       0.38      0.34      0.36       120\n",
      "           7       0.53      0.32      0.40       131\n",
      "           8       0.50      0.86      0.63       125\n",
      "\n",
      "    accuracy                           0.50       818\n",
      "   macro avg       0.48      0.50      0.47       818\n",
      "weighted avg       0.48      0.50      0.47       818\n",
      "\n"
     ]
    }
   ],
   "source": [
    "gnb = GaussianNB()\n",
    "y_pred = gnb.fit(X_train, Y_train).predict(Xtest)\n",
    "f1_nb = f1_score(Ytest, y_pred, average='macro')\n",
    "acc_nb = accuracy_score(y_pred, Ytest)\n",
    "print(\"F1 Score for Naive Bayes Classifier is\", f1_nb)\n",
    "print(\"Accuracy Score for Naive Bayes Classifier is\", acc_nb)\n",
    "print(classification_report(Ytest,y_pred))"
   ]
  },
  {
   "cell_type": "markdown",
   "metadata": {},
   "source": [
    "## 4) Random Forest"
   ]
  },
  {
   "cell_type": "code",
   "execution_count": 199,
   "metadata": {},
   "outputs": [
    {
     "data": {
      "text/plain": [
       "GridSearchCV(cv=10, estimator=RandomForestClassifier(random_state=100),\n",
       "             param_grid={'criterion': ['gini', 'entropy'],\n",
       "                         'max_depth': [4, 6, 8, 10, 12, 14],\n",
       "                         'max_features': [3, 4],\n",
       "                         'n_estimators': [200, 300, 400, 500]})"
      ]
     },
     "execution_count": 199,
     "metadata": {},
     "output_type": "execute_result"
    }
   ],
   "source": [
    "rfc=RandomForestClassifier(random_state=100)\n",
    "\n",
    "param_grid = { \n",
    "    'n_estimators': [200, 300, 400, 500],\n",
    "    'max_features': [3,4],\n",
    "    'max_depth' : [4,6,8,10,12,14],\n",
    "    'criterion' :['gini', 'entropy']\n",
    "}\n",
    "\n",
    "CV_rfc = GridSearchCV(estimator=rfc, param_grid=param_grid, cv= 10)\n",
    "CV_rfc.fit(X_train, Y_train)"
   ]
  },
  {
   "cell_type": "code",
   "execution_count": 200,
   "metadata": {},
   "outputs": [
    {
     "data": {
      "text/plain": [
       "{'criterion': 'entropy',\n",
       " 'max_depth': 14,\n",
       " 'max_features': 3,\n",
       " 'n_estimators': 500}"
      ]
     },
     "execution_count": 200,
     "metadata": {},
     "output_type": "execute_result"
    }
   ],
   "source": [
    "CV_rfc.best_params_"
   ]
  },
  {
   "cell_type": "code",
   "execution_count": 201,
   "metadata": {},
   "outputs": [
    {
     "name": "stdout",
     "output_type": "stream",
     "text": [
      "F1 Score for Random Forest Classifier is 0.9230546756398611\n",
      "Accuracy Score for Random Forest Classifier is 0.9229828850855746\n",
      "              precision    recall  f1-score   support\n",
      "\n",
      "           3       0.98      1.00      0.99       142\n",
      "           4       0.97      1.00      0.99       139\n",
      "           5       0.91      0.75      0.82       161\n",
      "           6       0.76      0.85      0.80       120\n",
      "           7       0.93      0.96      0.94       131\n",
      "           8       0.99      1.00      1.00       125\n",
      "\n",
      "    accuracy                           0.92       818\n",
      "   macro avg       0.92      0.93      0.92       818\n",
      "weighted avg       0.93      0.92      0.92       818\n",
      "\n"
     ]
    }
   ],
   "source": [
    "# Best parameters after tuning:\n",
    "rf = RandomForestClassifier(random_state=100, n_estimators=500, criterion='entropy', max_depth=14, max_features=3)\n",
    "y_pred = rf.fit(X_train, Y_train).predict(Xtest)\n",
    "f1_rf = f1_score(Ytest, y_pred, average='macro')\n",
    "acc_rf = accuracy_score(y_pred, Ytest)\n",
    "print(\"F1 Score for Random Forest Classifier is\", f1_rf)\n",
    "print(\"Accuracy Score for Random Forest Classifier is\", acc_rf)\n",
    "print(classification_report(Ytest,y_pred))"
   ]
  },
  {
   "cell_type": "markdown",
   "metadata": {},
   "source": [
    "## 5) Support Vector Classifier"
   ]
  },
  {
   "cell_type": "code",
   "execution_count": 206,
   "metadata": {},
   "outputs": [
    {
     "data": {
      "text/plain": [
       "GridSearchCV(cv=5, estimator=SVC(random_state=100),\n",
       "             param_grid={'C': [0.1, 0.8, 0.9, 1, 1.1, 1.2, 1.3, 1.4],\n",
       "                         'kernel': ['linear', 'rbf']})"
      ]
     },
     "execution_count": 206,
     "metadata": {},
     "output_type": "execute_result"
    }
   ],
   "source": [
    "svc=SVC(random_state=100)\n",
    "\n",
    "param_grid = { \n",
    "    'C': [0.1,0.8,0.9,1,1.1,1.2,1.3,1.4],\n",
    "    'kernel': ['linear','rbf']\n",
    "}\n",
    "\n",
    "CV_svc = GridSearchCV(estimator=svc, param_grid=param_grid, cv= 5)\n",
    "CV_svc.fit(X_train, Y_train)"
   ]
  },
  {
   "cell_type": "code",
   "execution_count": 207,
   "metadata": {},
   "outputs": [
    {
     "data": {
      "text/plain": [
       "{'C': 1.2, 'kernel': 'linear'}"
      ]
     },
     "execution_count": 207,
     "metadata": {},
     "output_type": "execute_result"
    }
   ],
   "source": [
    "CV_svc.best_params_"
   ]
  },
  {
   "cell_type": "code",
   "execution_count": 208,
   "metadata": {},
   "outputs": [
    {
     "name": "stdout",
     "output_type": "stream",
     "text": [
      "F1 Score for Support Vector Classifier is 0.5195121252974101\n",
      "Accuracy Score for Support Vector Classifier is 0.5452322738386308\n",
      "              precision    recall  f1-score   support\n",
      "\n",
      "           3       0.70      1.00      0.82       142\n",
      "           4       0.46      0.32      0.38       139\n",
      "           5       0.52      0.51      0.52       161\n",
      "           6       0.41      0.26      0.32       120\n",
      "           7       0.43      0.47      0.45       131\n",
      "           8       0.59      0.68      0.63       125\n",
      "\n",
      "    accuracy                           0.55       818\n",
      "   macro avg       0.52      0.54      0.52       818\n",
      "weighted avg       0.52      0.55      0.52       818\n",
      "\n"
     ]
    }
   ],
   "source": [
    "# Best parameters after tuning:\n",
    "rf = SVC(random_state=100, C=1.2, kernel=\"linear\")\n",
    "y_pred = rf.fit(X_train, Y_train).predict(Xtest)\n",
    "f1_svc = f1_score(Ytest, y_pred, average='macro')\n",
    "acc_svc = accuracy_score(y_pred, Ytest)\n",
    "print(\"F1 Score for Support Vector Classifier is\", f1_svc)\n",
    "print(\"Accuracy Score for Support Vector Classifier is\", acc_svc)\n",
    "print(classification_report(Ytest,y_pred))"
   ]
  },
  {
   "cell_type": "markdown",
   "metadata": {},
   "source": [
    "## 6) Logistic Regression"
   ]
  },
  {
   "cell_type": "code",
   "execution_count": 97,
   "metadata": {},
   "outputs": [
    {
     "data": {
      "text/plain": [
       "GridSearchCV(cv=5, estimator=LogisticRegression(random_state=100),\n",
       "             param_grid={'C': array([1.00000000e-04, 2.63665090e-04, 6.95192796e-04, 1.83298071e-03,\n",
       "       4.83293024e-03, 1.27427499e-02, 3.35981829e-02, 8.85866790e-02,\n",
       "       2.33572147e-01, 6.15848211e-01, 1.62377674e+00, 4.28133240e+00,\n",
       "       1.12883789e+01, 2.97635144e+01, 7.84759970e+01, 2.06913808e+02,\n",
       "       5.45559478e+02, 1.43844989e+03, 3.79269019e+03, 1.00000000e+04]),\n",
       "                         'penalty': ['l1', 'l2'], 'solver': ['liblinear']})"
      ]
     },
     "execution_count": 97,
     "metadata": {},
     "output_type": "execute_result"
    }
   ],
   "source": [
    "LR = LogisticRegression(random_state=100)\n",
    "\n",
    "param_grid = {\n",
    "    'penalty' : ['l1', 'l2'],\n",
    "    'C' : np.logspace(-4, 4, 20),\n",
    "    'solver' : ['liblinear']\n",
    "}\n",
    "\n",
    "# Create grid search object\n",
    "CV_Lr = GridSearchCV(estimator=LR, param_grid=param_grid, cv= 5)\n",
    "CV_Lr.fit(X_train, Y_train)"
   ]
  },
  {
   "cell_type": "code",
   "execution_count": 98,
   "metadata": {},
   "outputs": [
    {
     "data": {
      "text/plain": [
       "{'C': 78.47599703514607, 'penalty': 'l2', 'solver': 'liblinear'}"
      ]
     },
     "execution_count": 98,
     "metadata": {},
     "output_type": "execute_result"
    }
   ],
   "source": [
    "CV_Lr.best_params_"
   ]
  },
  {
   "cell_type": "code",
   "execution_count": 154,
   "metadata": {},
   "outputs": [
    {
     "name": "stdout",
     "output_type": "stream",
     "text": [
      "F1 Score for Multinomial Logistic Regression is 0.5635696821515892\n",
      "Accuracy Score for Logistics Regression is 0.5635696821515892\n",
      "              precision    recall  f1-score   support\n",
      "\n",
      "           3       0.67      0.92      0.78       142\n",
      "           4       0.39      0.29      0.33       139\n",
      "           5       0.53      0.54      0.54       161\n",
      "           6       0.43      0.21      0.28       120\n",
      "           7       0.55      0.51      0.53       131\n",
      "           8       0.63      0.89      0.74       125\n",
      "\n",
      "    accuracy                           0.56       818\n",
      "   macro avg       0.53      0.56      0.53       818\n",
      "weighted avg       0.54      0.56      0.54       818\n",
      "\n"
     ]
    }
   ],
   "source": [
    "# Best parameters after tuning:\n",
    "Lr = LogisticRegression(random_state=100, C=78.47599703514607, penalty='l2',solver='liblinear')\n",
    "y_pred = Lr.fit(X_train, Y_train).predict(Xtest)\n",
    "f1_Lr = f1_score(Ytest, y_pred, average='macro')\n",
    "acc_lr = accuracy_score(y_pred, Ytest)\n",
    "print(\"F1 Score for Multinomial Logistic Regression is\", f1_Lr)\n",
    "print(\"Accuracy Score for Logistics Regression is\", acc_lr)\n",
    "print(classification_report(Ytest,y_pred))"
   ]
  },
  {
   "cell_type": "markdown",
   "metadata": {},
   "source": [
    "## 7) Decision tree"
   ]
  },
  {
   "cell_type": "code",
   "execution_count": 100,
   "metadata": {},
   "outputs": [
    {
     "data": {
      "text/plain": [
       "GridSearchCV(cv=5, estimator=DecisionTreeClassifier(random_state=100),\n",
       "             param_grid={'criterion': ['gini', 'entropy'],\n",
       "                         'max_depth': array([ 1,  2,  3,  4,  5,  6,  7,  8,  9, 10, 11, 12, 13, 14, 15, 16, 17,\n",
       "       18, 19]),\n",
       "                         'max_features': ['auto', 'sqrt', 'log2']})"
      ]
     },
     "execution_count": 100,
     "metadata": {},
     "output_type": "execute_result"
    }
   ],
   "source": [
    "DT = DecisionTreeClassifier(random_state=100)\n",
    "\n",
    "param_grid = {\n",
    "    'criterion' : ['gini', 'entropy'],\n",
    "    'max_features' :['auto', 'sqrt', 'log2'],\n",
    "    'max_depth':np.arange(1,20)\n",
    "}\n",
    "\n",
    "# Create grid search object\n",
    "CV_tree = GridSearchCV(estimator=DT, param_grid=param_grid, cv= 5)\n",
    "CV_tree.fit(X_train, Y_train)\n"
   ]
  },
  {
   "cell_type": "code",
   "execution_count": 101,
   "metadata": {},
   "outputs": [
    {
     "data": {
      "text/plain": [
       "{'criterion': 'gini', 'max_depth': 16, 'max_features': 'auto'}"
      ]
     },
     "execution_count": 101,
     "metadata": {},
     "output_type": "execute_result"
    }
   ],
   "source": [
    "CV_tree.best_params_"
   ]
  },
  {
   "cell_type": "code",
   "execution_count": 155,
   "metadata": {},
   "outputs": [
    {
     "name": "stdout",
     "output_type": "stream",
     "text": [
      "F1 Score for Decision Tree is 0.9095354523227384\n",
      "Accuracy Score for decision tree classifier is 0.9095354523227384\n",
      "              precision    recall  f1-score   support\n",
      "\n",
      "           3       0.98      1.00      0.99       142\n",
      "           4       0.93      1.00      0.97       139\n",
      "           5       0.87      0.69      0.77       161\n",
      "           6       0.74      0.83      0.78       120\n",
      "           7       0.95      0.97      0.96       131\n",
      "           8       0.98      1.00      0.99       125\n",
      "\n",
      "    accuracy                           0.91       818\n",
      "   macro avg       0.91      0.92      0.91       818\n",
      "weighted avg       0.91      0.91      0.91       818\n",
      "\n"
     ]
    }
   ],
   "source": [
    "# Best parameters after tuning:\n",
    "Dt = DecisionTreeClassifier(random_state=100, criterion='gini', max_depth=16, max_features='auto')\n",
    "y_pred = Dt.fit(X_train, Y_train).predict(Xtest)\n",
    "f1_Dt = f1_score(Ytest, y_pred, average='macro')\n",
    "acc_dt = accuracy_score(y_pred, Ytest)\n",
    "print(\"F1 Score for Decision Tree is\", f1_Dt)\n",
    "print(\"Accuracy Score for decision tree classifier is\", acc_dt)\n",
    "print(classification_report(Ytest,y_pred))"
   ]
  },
  {
   "cell_type": "markdown",
   "metadata": {},
   "source": [
    "## Evaluating all models"
   ]
  },
  {
   "cell_type": "code",
   "execution_count": 209,
   "metadata": {},
   "outputs": [
    {
     "name": "stdout",
     "output_type": "stream",
     "text": [
      "                            Models  F1 Score  Accuracy Score\n",
      "3                    Random Forest  0.923055        0.922983\n",
      "6                    Decision Tree  0.909535        0.909535\n",
      "1  Quadratic Discriminant Analysis  0.666259        0.666259\n",
      "5  Multinomial Logistic Regression  0.563570        0.563570\n",
      "4        Support Vector Classifier  0.519512        0.545232\n",
      "2                      Naive Bayes  0.496333        0.496333\n",
      "0     Linear Discriminant Analysis  0.486553        0.486553\n"
     ]
    }
   ],
   "source": [
    "# Dataframe to contain model results\n",
    "model_results = pd.DataFrame(columns=[\"Models\",\"F1 Score\",\"Accuracy Score\"])\n",
    "\n",
    "# LDA\n",
    "model_results = model_results.append(pd.DataFrame({\"Models\":\"Linear Discriminant Analysis\", \n",
    "                                  \"F1 Score\":f1_lda, \"Accuracy Score\":acc_lda}\n",
    "                                                  , index = [0]), ignore_index = False)\n",
    "# QDA\n",
    "model_results = model_results.append(pd.DataFrame({\"Models\":\"Quadratic Discriminant Analysis\", \n",
    "                                  \"F1 Score\":f1_qda, \"Accuracy Score\":acc_qda}\n",
    "                                                  , index = [1]), ignore_index = False)\n",
    "# Naive Bayes\n",
    "model_results = model_results.append(pd.DataFrame({\"Models\":\"Naive Bayes\", \n",
    "                                  \"F1 Score\":f1_nb, \"Accuracy Score\":acc_nb}\n",
    "                                                  , index = [2]), ignore_index = False)\n",
    "# Random Forest\n",
    "model_results = model_results.append(pd.DataFrame({\"Models\":\"Random Forest\", \n",
    "                                  \"F1 Score\":f1_rf, \"Accuracy Score\":acc_rf}\n",
    "                                                  , index = [3]), ignore_index = False)\n",
    "# Support Vector Classifier\n",
    "model_results = model_results.append(pd.DataFrame({\"Models\":\"Support Vector Classifier\", \n",
    "                                  \"F1 Score\":f1_svc, \"Accuracy Score\":acc_svc}\n",
    "                                                  , index = [4]), ignore_index = False)\n",
    "# Multinomial Logistic Regression\n",
    "model_results = model_results.append(pd.DataFrame({\"Models\":\"Multinomial Logistic Regression\", \n",
    "                                  \"F1 Score\":f1_Lr, \"Accuracy Score\":acc_lr}\n",
    "                                                  , index = [5]), ignore_index = False)\n",
    "# Decision Tree\n",
    "model_results = model_results.append(pd.DataFrame({\"Models\":\"Decision Tree\", \n",
    "                                  \"F1 Score\":f1_Dt, \"Accuracy Score\":acc_dt}\n",
    "                                                  , index = [6]), ignore_index = False)\n",
    "\n",
    "print(model_results.sort_values(by=\"F1 Score\", ascending = False))\n",
    "model_results.to_csv(\"model_results_upsample.csv\")"
   ]
  },
  {
   "cell_type": "code",
   "execution_count": 194,
   "metadata": {},
   "outputs": [
    {
     "data": {
      "text/plain": [
       "<matplotlib.legend.Legend at 0x2e2c070d3c8>"
      ]
     },
     "execution_count": 194,
     "metadata": {},
     "output_type": "execute_result"
    },
    {
     "data": {
      "image/png": "[encoded data removed]",
      "text/plain": [
       "<Figure size 432x288 with 1 Axes>"
      ]
     },
     "metadata": {
      "needs_background": "light"
     },
     "output_type": "display_data"
    }
   ],
   "source": [
    "model_results = model_results.set_index(model_results.Models)\n",
    "model_results.iloc[:,1].plot.bar(x=model_results.Models,y=model_results[\"F1 Score\"])\n",
    "plt.legend()"
   ]
  }
 ],
 "metadata": {
  "kernelspec": {
   "display_name": "Python 3",
   "language": "python",
   "name": "python3"
  },
  "language_info": {
   "codemirror_mode": {
    "name": "ipython",
    "version": 3
   },
   "file_extension": ".py",
   "mimetype": "text/x-python",
   "name": "python",
   "nbconvert_exporter": "python",
   "pygments_lexer": "ipython3",
   "version": "3.7.4"
  }
 },
 "nbformat": 4,
 "nbformat_minor": 2
}
